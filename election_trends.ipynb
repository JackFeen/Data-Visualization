{
 "cells": [
  {
   "cell_type": "markdown",
   "id": "58a984af",
   "metadata": {},
   "source": [
    "# 2020 Election Results Dataset"
   ]
  },
  {
   "cell_type": "markdown",
   "id": "8c254e39",
   "metadata": {},
   "source": [
    "Identifying red, blue, and moderate states for future analysis\n",
    "     \n",
    "     \n",
    "MIT Election Data and Science Lab, 2017, \"U.S. President 1976–2020\", https://doi.org/10.7910/DVN/42MVDX, Harvard Dataverse, V8, UNF:6:F0opd1IRbeYI9QyVfzglUw== [fileUNF]"
   ]
  },
  {
   "cell_type": "code",
   "execution_count": 35,
   "id": "38764f0c",
   "metadata": {},
   "outputs": [],
   "source": [
    "import pandas as pd"
   ]
  },
  {
   "cell_type": "code",
   "execution_count": 36,
   "id": "c44d9b43",
   "metadata": {},
   "outputs": [],
   "source": [
    "df = pd.read_csv(\"/Users/jackfeen/Downloads/1976-2020-president.csv\")"
   ]
  },
  {
   "cell_type": "code",
   "execution_count": 37,
   "id": "10e80820",
   "metadata": {},
   "outputs": [
    {
     "data": {
      "text/html": [
       "<div>\n",
       "<style scoped>\n",
       "    .dataframe tbody tr th:only-of-type {\n",
       "        vertical-align: middle;\n",
       "    }\n",
       "\n",
       "    .dataframe tbody tr th {\n",
       "        vertical-align: top;\n",
       "    }\n",
       "\n",
       "    .dataframe thead th {\n",
       "        text-align: right;\n",
       "    }\n",
       "</style>\n",
       "<table border=\"1\" class=\"dataframe\">\n",
       "  <thead>\n",
       "    <tr style=\"text-align: right;\">\n",
       "      <th></th>\n",
       "      <th>year</th>\n",
       "      <th>state</th>\n",
       "      <th>state_po</th>\n",
       "      <th>state_fips</th>\n",
       "      <th>state_cen</th>\n",
       "      <th>state_ic</th>\n",
       "      <th>office</th>\n",
       "      <th>candidate</th>\n",
       "      <th>party_detailed</th>\n",
       "      <th>writein</th>\n",
       "      <th>candidatevotes</th>\n",
       "      <th>totalvotes</th>\n",
       "      <th>version</th>\n",
       "      <th>notes</th>\n",
       "      <th>party_simplified</th>\n",
       "    </tr>\n",
       "  </thead>\n",
       "  <tbody>\n",
       "    <tr>\n",
       "      <th>0</th>\n",
       "      <td>1976</td>\n",
       "      <td>ALABAMA</td>\n",
       "      <td>AL</td>\n",
       "      <td>1</td>\n",
       "      <td>63</td>\n",
       "      <td>41</td>\n",
       "      <td>US PRESIDENT</td>\n",
       "      <td>CARTER, JIMMY</td>\n",
       "      <td>DEMOCRAT</td>\n",
       "      <td>False</td>\n",
       "      <td>659170</td>\n",
       "      <td>1182850</td>\n",
       "      <td>20210113</td>\n",
       "      <td>NaN</td>\n",
       "      <td>DEMOCRAT</td>\n",
       "    </tr>\n",
       "    <tr>\n",
       "      <th>1</th>\n",
       "      <td>1976</td>\n",
       "      <td>ALABAMA</td>\n",
       "      <td>AL</td>\n",
       "      <td>1</td>\n",
       "      <td>63</td>\n",
       "      <td>41</td>\n",
       "      <td>US PRESIDENT</td>\n",
       "      <td>FORD, GERALD</td>\n",
       "      <td>REPUBLICAN</td>\n",
       "      <td>False</td>\n",
       "      <td>504070</td>\n",
       "      <td>1182850</td>\n",
       "      <td>20210113</td>\n",
       "      <td>NaN</td>\n",
       "      <td>REPUBLICAN</td>\n",
       "    </tr>\n",
       "  </tbody>\n",
       "</table>\n",
       "</div>"
      ],
      "text/plain": [
       "   year    state state_po  state_fips  state_cen  state_ic        office  \\\n",
       "0  1976  ALABAMA       AL           1         63        41  US PRESIDENT   \n",
       "1  1976  ALABAMA       AL           1         63        41  US PRESIDENT   \n",
       "\n",
       "       candidate party_detailed writein  candidatevotes  totalvotes   version  \\\n",
       "0  CARTER, JIMMY       DEMOCRAT   False          659170     1182850  20210113   \n",
       "1   FORD, GERALD     REPUBLICAN   False          504070     1182850  20210113   \n",
       "\n",
       "   notes party_simplified  \n",
       "0    NaN         DEMOCRAT  \n",
       "1    NaN       REPUBLICAN  "
      ]
     },
     "execution_count": 37,
     "metadata": {},
     "output_type": "execute_result"
    }
   ],
   "source": [
    "pd.set_option('display.max_columns', None)\n",
    "df.head(2)"
   ]
  },
  {
   "cell_type": "markdown",
   "id": "03ca60a3",
   "metadata": {},
   "source": [
    "We only care about the 2020 election results"
   ]
  },
  {
   "cell_type": "code",
   "execution_count": 38,
   "id": "0f3fa117",
   "metadata": {},
   "outputs": [
    {
     "data": {
      "text/html": [
       "<div>\n",
       "<style scoped>\n",
       "    .dataframe tbody tr th:only-of-type {\n",
       "        vertical-align: middle;\n",
       "    }\n",
       "\n",
       "    .dataframe tbody tr th {\n",
       "        vertical-align: top;\n",
       "    }\n",
       "\n",
       "    .dataframe thead th {\n",
       "        text-align: right;\n",
       "    }\n",
       "</style>\n",
       "<table border=\"1\" class=\"dataframe\">\n",
       "  <thead>\n",
       "    <tr style=\"text-align: right;\">\n",
       "      <th></th>\n",
       "      <th>year</th>\n",
       "      <th>state</th>\n",
       "      <th>state_po</th>\n",
       "      <th>state_fips</th>\n",
       "      <th>state_cen</th>\n",
       "      <th>state_ic</th>\n",
       "      <th>office</th>\n",
       "      <th>candidate</th>\n",
       "      <th>party_detailed</th>\n",
       "      <th>writein</th>\n",
       "      <th>candidatevotes</th>\n",
       "      <th>totalvotes</th>\n",
       "      <th>version</th>\n",
       "      <th>notes</th>\n",
       "      <th>party_simplified</th>\n",
       "    </tr>\n",
       "  </thead>\n",
       "  <tbody>\n",
       "    <tr>\n",
       "      <th>3740</th>\n",
       "      <td>2020</td>\n",
       "      <td>ALABAMA</td>\n",
       "      <td>AL</td>\n",
       "      <td>1</td>\n",
       "      <td>63</td>\n",
       "      <td>41</td>\n",
       "      <td>US PRESIDENT</td>\n",
       "      <td>BIDEN, JOSEPH R. JR</td>\n",
       "      <td>DEMOCRAT</td>\n",
       "      <td>False</td>\n",
       "      <td>849624</td>\n",
       "      <td>2323282</td>\n",
       "      <td>20210113</td>\n",
       "      <td>NaN</td>\n",
       "      <td>DEMOCRAT</td>\n",
       "    </tr>\n",
       "    <tr>\n",
       "      <th>3741</th>\n",
       "      <td>2020</td>\n",
       "      <td>ALABAMA</td>\n",
       "      <td>AL</td>\n",
       "      <td>1</td>\n",
       "      <td>63</td>\n",
       "      <td>41</td>\n",
       "      <td>US PRESIDENT</td>\n",
       "      <td>TRUMP, DONALD J.</td>\n",
       "      <td>REPUBLICAN</td>\n",
       "      <td>False</td>\n",
       "      <td>1441170</td>\n",
       "      <td>2323282</td>\n",
       "      <td>20210113</td>\n",
       "      <td>NaN</td>\n",
       "      <td>REPUBLICAN</td>\n",
       "    </tr>\n",
       "    <tr>\n",
       "      <th>3742</th>\n",
       "      <td>2020</td>\n",
       "      <td>ALABAMA</td>\n",
       "      <td>AL</td>\n",
       "      <td>1</td>\n",
       "      <td>63</td>\n",
       "      <td>41</td>\n",
       "      <td>US PRESIDENT</td>\n",
       "      <td>JORGENSEN, JO</td>\n",
       "      <td>LIBERTARIAN</td>\n",
       "      <td>False</td>\n",
       "      <td>25176</td>\n",
       "      <td>2323282</td>\n",
       "      <td>20210113</td>\n",
       "      <td>NaN</td>\n",
       "      <td>LIBERTARIAN</td>\n",
       "    </tr>\n",
       "    <tr>\n",
       "      <th>3743</th>\n",
       "      <td>2020</td>\n",
       "      <td>ALABAMA</td>\n",
       "      <td>AL</td>\n",
       "      <td>1</td>\n",
       "      <td>63</td>\n",
       "      <td>41</td>\n",
       "      <td>US PRESIDENT</td>\n",
       "      <td>NaN</td>\n",
       "      <td>NaN</td>\n",
       "      <td>True</td>\n",
       "      <td>7312</td>\n",
       "      <td>2323282</td>\n",
       "      <td>20210113</td>\n",
       "      <td>NaN</td>\n",
       "      <td>OTHER</td>\n",
       "    </tr>\n",
       "    <tr>\n",
       "      <th>3744</th>\n",
       "      <td>2020</td>\n",
       "      <td>ALASKA</td>\n",
       "      <td>AK</td>\n",
       "      <td>2</td>\n",
       "      <td>94</td>\n",
       "      <td>81</td>\n",
       "      <td>US PRESIDENT</td>\n",
       "      <td>BIDEN, JOSEPH R. JR</td>\n",
       "      <td>DEMOCRAT</td>\n",
       "      <td>False</td>\n",
       "      <td>153778</td>\n",
       "      <td>359530</td>\n",
       "      <td>20210113</td>\n",
       "      <td>NaN</td>\n",
       "      <td>DEMOCRAT</td>\n",
       "    </tr>\n",
       "  </tbody>\n",
       "</table>\n",
       "</div>"
      ],
      "text/plain": [
       "      year    state state_po  state_fips  state_cen  state_ic        office  \\\n",
       "3740  2020  ALABAMA       AL           1         63        41  US PRESIDENT   \n",
       "3741  2020  ALABAMA       AL           1         63        41  US PRESIDENT   \n",
       "3742  2020  ALABAMA       AL           1         63        41  US PRESIDENT   \n",
       "3743  2020  ALABAMA       AL           1         63        41  US PRESIDENT   \n",
       "3744  2020   ALASKA       AK           2         94        81  US PRESIDENT   \n",
       "\n",
       "                candidate party_detailed writein  candidatevotes  totalvotes  \\\n",
       "3740  BIDEN, JOSEPH R. JR       DEMOCRAT   False          849624     2323282   \n",
       "3741     TRUMP, DONALD J.     REPUBLICAN   False         1441170     2323282   \n",
       "3742        JORGENSEN, JO    LIBERTARIAN   False           25176     2323282   \n",
       "3743                  NaN            NaN    True            7312     2323282   \n",
       "3744  BIDEN, JOSEPH R. JR       DEMOCRAT   False          153778      359530   \n",
       "\n",
       "       version  notes party_simplified  \n",
       "3740  20210113    NaN         DEMOCRAT  \n",
       "3741  20210113    NaN       REPUBLICAN  \n",
       "3742  20210113    NaN      LIBERTARIAN  \n",
       "3743  20210113    NaN            OTHER  \n",
       "3744  20210113    NaN         DEMOCRAT  "
      ]
     },
     "execution_count": 38,
     "metadata": {},
     "output_type": "execute_result"
    }
   ],
   "source": [
    "df = df[df['year']==2020]\n",
    "df.head()"
   ]
  },
  {
   "cell_type": "markdown",
   "id": "316100d0",
   "metadata": {},
   "source": [
    "I'll now initialize a dictionary that will be used later"
   ]
  },
  {
   "cell_type": "code",
   "execution_count": 39,
   "id": "45becdfd",
   "metadata": {},
   "outputs": [],
   "source": [
    "state_affiliation = {\n",
    "    \"State\": [],\n",
    "    \"Party Affiliation\": []\n",
    "}"
   ]
  },
  {
   "cell_type": "markdown",
   "id": "ff8fbce9",
   "metadata": {},
   "source": [
    "Next, we compare the republican and democrat voting trends to classify states"
   ]
  },
  {
   "cell_type": "code",
   "execution_count": 40,
   "id": "f84d3de2",
   "metadata": {},
   "outputs": [],
   "source": [
    "heavily_red = []\n",
    "heavily_blue = []\n",
    "red = []\n",
    "blue = []\n",
    "moderate = []\n",
    "\n",
    "grouped = df.groupby('state')\n",
    "\n",
    "for state, group in grouped:\n",
    "    dem_votes = group.loc[group['party_detailed'] == 'DEMOCRAT', 'candidatevotes'].values[0]\n",
    "    rep_votes = group.loc[group['party_detailed'] == 'REPUBLICAN', 'candidatevotes'].values[0]\n",
    "    \n",
    "    dem_percentage = (dem_votes / group['candidatevotes'].sum()) * 100\n",
    "    rep_percentage = (rep_votes / group['candidatevotes'].sum()) * 100\n",
    "\n",
    "    if rep_percentage > dem_percentage + 15:\n",
    "        affiliation = 'Heavily Red'\n",
    "    elif dem_percentage > rep_percentage + 15:\n",
    "        affiliation = 'Heavily Blue'\n",
    "    elif rep_percentage > dem_percentage + 5:\n",
    "        affiliation = 'Red'\n",
    "    elif dem_percentage > rep_percentage + 5:\n",
    "        affiliation = 'Blue'\n",
    "    else:\n",
    "        affiliation = 'Moderate'\n",
    "        \n",
    "    state_affiliation[\"State\"].append(state)\n",
    "    state_affiliation[\"Party Affiliation\"].append(affiliation)\n"
   ]
  },
  {
   "cell_type": "markdown",
   "id": "f2194994",
   "metadata": {},
   "source": [
    "I'll finally put this data into a csv that I can use later to compare COVID-19 search trends with political affiliation"
   ]
  },
  {
   "cell_type": "code",
   "execution_count": 42,
   "id": "bd573f8e",
   "metadata": {},
   "outputs": [
    {
     "name": "stdout",
     "output_type": "stream",
     "text": [
      "done\n"
     ]
    }
   ],
   "source": [
    "final_df = pd.DataFrame(state_affiliation)\n",
    "final_df.to_csv('Political_trends_by_state.csv', index=False)\n",
    "print('done')"
   ]
  }
 ],
 "metadata": {
  "kernelspec": {
   "display_name": "Python 3 (ipykernel)",
   "language": "python",
   "name": "python3"
  },
  "language_info": {
   "codemirror_mode": {
    "name": "ipython",
    "version": 3
   },
   "file_extension": ".py",
   "mimetype": "text/x-python",
   "name": "python",
   "nbconvert_exporter": "python",
   "pygments_lexer": "ipython3",
   "version": "3.11.5"
  }
 },
 "nbformat": 4,
 "nbformat_minor": 5
}
